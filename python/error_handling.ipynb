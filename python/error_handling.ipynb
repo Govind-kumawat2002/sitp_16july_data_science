{
 "cells": [
  {
   "cell_type": "markdown",
   "id": "94bcf429",
   "metadata": {},
   "source": []
  },
  {
   "cell_type": "code",
   "execution_count": 1,
   "id": "81e83a57",
   "metadata": {},
   "outputs": [],
   "source": [
    "try:  # MAIN CODE\n",
    "    pass \n",
    "except: ### ERROR HANDLING\n",
    "    pass \n",
    "else: ### IF NO ERROR\n",
    "    pass \n",
    "finally: ### ALWAYS RUN\n",
    "    pass"
   ]
  },
  {
   "cell_type": "code",
   "execution_count": 3,
   "id": "8a183dc8",
   "metadata": {},
   "outputs": [
    {
     "name": "stdout",
     "output_type": "stream",
     "text": [
      "error is:- division by zero\n",
      "please enter valid input\n"
     ]
    }
   ],
   "source": [
    "try:\n",
    "    a =int(input(\"enter a number\"))\n",
    "    b =int(input(\"enter second number\"))\n",
    "    print(a/b)\n",
    "except Exception as e:\n",
    "    print(\"error is:-\",e)\n",
    "    print(\"please enter valid input\")"
   ]
  },
  {
   "cell_type": "code",
   "execution_count": 6,
   "id": "7a83abee",
   "metadata": {},
   "outputs": [
    {
     "name": "stdout",
     "output_type": "stream",
     "text": [
      "10\n",
      "<class 'int'>\n"
     ]
    }
   ],
   "source": [
    "a =int(input(\"enter a number\"))\n",
    "print(a)\n",
    "print(type(a))"
   ]
  },
  {
   "cell_type": "code",
   "execution_count": 7,
   "id": "3b1f8fe8",
   "metadata": {},
   "outputs": [
    {
     "name": "stdout",
     "output_type": "stream",
     "text": [
      "error is:- unsupported operand type(s) for /: 'int' and 'str'\n",
      "please enter valid input\n",
      "this is always run\n"
     ]
    }
   ],
   "source": [
    "try:\n",
    "    a =int(input(\"enter a number\"))\n",
    "    b =input(\"enter second number\")\n",
    "    print(a/b)\n",
    "except Exception as e:\n",
    "    print(\"error is:-\",e)\n",
    "    print(\"please enter valid input\")\n",
    "else:\n",
    "    print(\"no error\")\n",
    "finally:\n",
    "    print(\"this is always run\")"
   ]
  },
  {
   "cell_type": "code",
   "execution_count": null,
   "id": "5ce9e886",
   "metadata": {},
   "outputs": [],
   "source": [
    "try:\n",
    "    a =int(input(\"enter a number\"))\n",
    "    b =input(\"enter second number\")\n",
    "    print(a/b)\n",
    "except ZeroDivisionError, ValueError, TypeError, Exception,     NameError, AttributeError, IndexError, KeyError, OSError, IOError, FloatingPointError as e:\n",
    "    print(\"error is:-\",e)\n",
    "    print(\"please enter valid input\")\n",
    "else:\n",
    "    print(\"no error\")\n",
    "finally:\n",
    "    print(\"this is always run\")"
   ]
  }
 ],
 "metadata": {
  "kernelspec": {
   "display_name": "Python 3",
   "language": "python",
   "name": "python3"
  },
  "language_info": {
   "codemirror_mode": {
    "name": "ipython",
    "version": 3
   },
   "file_extension": ".py",
   "mimetype": "text/x-python",
   "name": "python",
   "nbconvert_exporter": "python",
   "pygments_lexer": "ipython3",
   "version": "3.11.5"
  }
 },
 "nbformat": 4,
 "nbformat_minor": 5
}
