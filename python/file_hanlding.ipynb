{
 "cells": [
  {
   "cell_type": "code",
   "execution_count": 1,
   "id": "831a4703",
   "metadata": {},
   "outputs": [],
   "source": [
    "# open(\"filename\", 'mode') \n",
    "\n",
    "# r = read\n",
    "# w = write\n",
    "# a = append\n",
    "# x = create\n"
   ]
  },
  {
   "cell_type": "code",
   "execution_count": 2,
   "id": "983516bf",
   "metadata": {},
   "outputs": [],
   "source": [
    "file =open('demo.txt', 'r')"
   ]
  },
  {
   "cell_type": "code",
   "execution_count": 3,
   "id": "1cc4bcde",
   "metadata": {},
   "outputs": [
    {
     "data": {
      "text/plain": [
       "'hello hii kese ho \\n'"
      ]
     },
     "execution_count": 3,
     "metadata": {},
     "output_type": "execute_result"
    }
   ],
   "source": [
    "file.read()"
   ]
  },
  {
   "cell_type": "code",
   "execution_count": 4,
   "id": "e3270acf",
   "metadata": {},
   "outputs": [],
   "source": [
    "file.close()"
   ]
  },
  {
   "cell_type": "code",
   "execution_count": 5,
   "id": "a4919812",
   "metadata": {},
   "outputs": [],
   "source": [
    "file =open('demo.txt', 'r')"
   ]
  },
  {
   "cell_type": "code",
   "execution_count": 6,
   "id": "79f783cd",
   "metadata": {},
   "outputs": [
    {
     "data": {
      "text/plain": [
       "['hello hii kese ho \\n']"
      ]
     },
     "execution_count": 6,
     "metadata": {},
     "output_type": "execute_result"
    }
   ],
   "source": [
    "file.readlines()"
   ]
  },
  {
   "cell_type": "code",
   "execution_count": 7,
   "id": "4b34429e",
   "metadata": {},
   "outputs": [
    {
     "data": {
      "text/plain": [
       "''"
      ]
     },
     "execution_count": 7,
     "metadata": {},
     "output_type": "execute_result"
    }
   ],
   "source": [
    "file.readline()\n"
   ]
  },
  {
   "cell_type": "code",
   "execution_count": 8,
   "id": "fdac44ca",
   "metadata": {},
   "outputs": [],
   "source": [
    "file.close()"
   ]
  },
  {
   "cell_type": "code",
   "execution_count": 9,
   "id": "22ca23a6",
   "metadata": {},
   "outputs": [],
   "source": [
    "file = open('demo.txt', 'w')\n",
    "file.write('aapko upflairs aake kesa lga ')\n",
    "file.close()"
   ]
  },
  {
   "cell_type": "code",
   "execution_count": 10,
   "id": "72cd5222",
   "metadata": {},
   "outputs": [
    {
     "data": {
      "text/plain": [
       "'aapko upflairs aake kesa lga '"
      ]
     },
     "execution_count": 10,
     "metadata": {},
     "output_type": "execute_result"
    }
   ],
   "source": [
    "file = open('demo.txt', 'r')\n",
    "file.read()"
   ]
  },
  {
   "cell_type": "code",
   "execution_count": 11,
   "id": "960dac52",
   "metadata": {},
   "outputs": [],
   "source": [
    "file.close()"
   ]
  },
  {
   "cell_type": "code",
   "execution_count": 17,
   "id": "5cef33b1",
   "metadata": {},
   "outputs": [
    {
     "data": {
      "text/plain": [
       "'aapko upflairs aake kesa lga ap kese ho ap kese ho ap kese ho ap kese ho ap kese ho ap kese ho \\n '"
      ]
     },
     "execution_count": 17,
     "metadata": {},
     "output_type": "execute_result"
    }
   ],
   "source": [
    "file = open('demo.txt', 'a')\n",
    "file.write('ap kese ho \\n ')\n",
    "file.close()\n",
    "# CELL:\n",
    "file = open('demo.txt', 'r')\n",
    "file.read()"
   ]
  },
  {
   "cell_type": "code",
   "execution_count": null,
   "id": "388d3c37",
   "metadata": {},
   "outputs": [],
   "source": [
    "file =open(\"test.txt\", \"r\")\n",
    "file.write(\"aapko upflairs aake kesa lga ap kese ho \\n \")\n",
    "file.close()"
   ]
  },
  {
   "cell_type": "code",
   "execution_count": 20,
   "id": "2facc781",
   "metadata": {},
   "outputs": [],
   "source": [
    "file =open(\"upload.txt\", \"x\")\n",
    "file.write(\"aapko upflairs aake kesa lga ap kese ho \\n \")\n",
    "file.close()"
   ]
  },
  {
   "cell_type": "code",
   "execution_count": 23,
   "id": "2265ef05",
   "metadata": {},
   "outputs": [],
   "source": [
    "file =open(\"test.txt\", \"r\")"
   ]
  },
  {
   "cell_type": "code",
   "execution_count": 24,
   "id": "667694fd",
   "metadata": {},
   "outputs": [
    {
     "data": {
      "text/plain": [
       "'aapko upflairs aake kesa lga ap kese ho \\n '"
      ]
     },
     "execution_count": 24,
     "metadata": {},
     "output_type": "execute_result"
    }
   ],
   "source": [
    "file.read()"
   ]
  },
  {
   "cell_type": "code",
   "execution_count": 25,
   "id": "5ad5fd14",
   "metadata": {},
   "outputs": [],
   "source": [
    "file.close()"
   ]
  },
  {
   "cell_type": "code",
   "execution_count": null,
   "id": "a3cf6e7a",
   "metadata": {},
   "outputs": [],
   "source": []
  }
 ],
 "metadata": {
  "kernelspec": {
   "display_name": "Python 3",
   "language": "python",
   "name": "python3"
  },
  "language_info": {
   "codemirror_mode": {
    "name": "ipython",
    "version": 3
   },
   "file_extension": ".py",
   "mimetype": "text/x-python",
   "name": "python",
   "nbconvert_exporter": "python",
   "pygments_lexer": "ipython3",
   "version": "3.11.5"
  }
 },
 "nbformat": 4,
 "nbformat_minor": 5
}
