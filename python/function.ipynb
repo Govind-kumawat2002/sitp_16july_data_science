{
 "cells": [
  {
   "cell_type": "code",
   "execution_count": 1,
   "id": "32fa5dce",
   "metadata": {},
   "outputs": [],
   "source": [
    "# def function_name():\n",
    "#     pass\n",
    "# def keyword and function_name  vo function ka name \n"
   ]
  },
  {
   "cell_type": "code",
   "execution_count": 2,
   "id": "2d4edcf6",
   "metadata": {},
   "outputs": [],
   "source": [
    "# function_name() ### function calling"
   ]
  },
  {
   "cell_type": "code",
   "execution_count": 3,
   "id": "651c456e",
   "metadata": {},
   "outputs": [
    {
     "name": "stdout",
     "output_type": "stream",
     "text": [
      "30\n"
     ]
    }
   ],
   "source": [
    "def add():\n",
    "    a = 10\n",
    "    b = 20\n",
    "    sum = a+b\n",
    "    print(sum)\n",
    "add()"
   ]
  },
  {
   "cell_type": "code",
   "execution_count": 4,
   "id": "0b219783",
   "metadata": {},
   "outputs": [
    {
     "name": "stdout",
     "output_type": "stream",
     "text": [
      "200\n"
     ]
    }
   ],
   "source": [
    "def add(a,b):\n",
    "    print(a *b)\n",
    "add(10,20)"
   ]
  },
  {
   "cell_type": "code",
   "execution_count": 5,
   "id": "d29207ca",
   "metadata": {},
   "outputs": [
    {
     "name": "stdout",
     "output_type": "stream",
     "text": [
      "200\n"
     ]
    }
   ],
   "source": [
    "def add(a,b):\n",
    "    \n",
    "    return(a*b)\n",
    "print(add(10,20))"
   ]
  },
  {
   "cell_type": "code",
   "execution_count": 6,
   "id": "c2e4035a",
   "metadata": {},
   "outputs": [],
   "source": [
    "class Student:  ### class is keyword and Student is class name\n",
    "    pass ### placeholder ke liye \n",
    "obj = Student() ### object obj is variable"
   ]
  },
  {
   "cell_type": "code",
   "execution_count": 7,
   "id": "7681d4ea",
   "metadata": {},
   "outputs": [],
   "source": [
    "class Student:\n",
    "    pass ### placeholder ke liye \n",
    "obj = Student()"
   ]
  },
  {
   "cell_type": "code",
   "execution_count": 8,
   "id": "3f2d5e5c",
   "metadata": {},
   "outputs": [
    {
     "name": "stdout",
     "output_type": "stream",
     "text": [
      "india\n",
      "new delhi\n"
     ]
    }
   ],
   "source": [
    "class Country:\n",
    "    country_name = \"india\"   ### class variable\n",
    "    capital = \"new delhi\"### class variable\n",
    "    language = \"hindi\"## class variable\n",
    "    religion = \"hindu\"\n",
    "    population = 10000000000\n",
    "\n",
    "con =Country()\n",
    "print(con.country_name)\n",
    "print(con.capital)"
   ]
  },
  {
   "cell_type": "code",
   "execution_count": 9,
   "id": "061cb229",
   "metadata": {},
   "outputs": [
    {
     "data": {
      "text/plain": [
       "'new delhi'"
      ]
     },
     "execution_count": 9,
     "metadata": {},
     "output_type": "execute_result"
    }
   ],
   "source": [
    "con.capital"
   ]
  },
  {
   "cell_type": "code",
   "execution_count": 10,
   "id": "b52f2517",
   "metadata": {},
   "outputs": [
    {
     "data": {
      "text/plain": [
       "'hindi'"
      ]
     },
     "execution_count": 10,
     "metadata": {},
     "output_type": "execute_result"
    }
   ],
   "source": [
    "con.language"
   ]
  },
  {
   "cell_type": "code",
   "execution_count": 11,
   "id": "1387d6c1",
   "metadata": {},
   "outputs": [
    {
     "data": {
      "text/plain": [
       "'hindu'"
      ]
     },
     "execution_count": 11,
     "metadata": {},
     "output_type": "execute_result"
    }
   ],
   "source": [
    "con.religion"
   ]
  },
  {
   "cell_type": "code",
   "execution_count": 12,
   "id": "e1eb84fd",
   "metadata": {},
   "outputs": [
    {
     "data": {
      "text/plain": [
       "10000000000"
      ]
     },
     "execution_count": 12,
     "metadata": {},
     "output_type": "execute_result"
    }
   ],
   "source": [
    "con.population"
   ]
  },
  {
   "cell_type": "code",
   "execution_count": 13,
   "id": "cf607956",
   "metadata": {},
   "outputs": [],
   "source": [
    "class Country:\n",
    "    country_name = \"india\"\n",
    "    capital = \"new delhi\"\n",
    "    language = \"hindi\"\n",
    "    religion = \"hindu\"\n",
    "    population = 10000000000\n",
    "    def disply(self):\n",
    "        print(self.country_name)\n",
    "        print(self.capital)\n",
    "        print(self.language)\n",
    "        print(self.religion)\n",
    "        print(self.population)\n",
    "\n",
    "con =Country()\n"
   ]
  },
  {
   "cell_type": "code",
   "execution_count": 14,
   "id": "06823141",
   "metadata": {},
   "outputs": [
    {
     "name": "stdout",
     "output_type": "stream",
     "text": [
      "india\n",
      "new delhi\n",
      "hindi\n",
      "hindu\n",
      "10000000000\n"
     ]
    }
   ],
   "source": [
    "con.disply()"
   ]
  },
  {
   "cell_type": "markdown",
   "id": "19dbab73",
   "metadata": {},
   "source": [
    "#### Inheritance\n",
    "     inheritance is a way of creating new class from existing class \n",
    "* single level inheritance\n",
    "* multiple level inheritance\n",
    "* multilevel inheritance\n",
    "* hierarchical inheritance\n",
    "* hybrid inheritance"
   ]
  },
  {
   "cell_type": "code",
   "execution_count": 15,
   "id": "febbc33d",
   "metadata": {},
   "outputs": [],
   "source": [
    "## single inheritance\n",
    "class Father:\n",
    "    pass\n",
    "class Child(Father):\n",
    "    pass \n"
   ]
  },
  {
   "cell_type": "code",
   "execution_count": 16,
   "id": "cfcd180c",
   "metadata": {},
   "outputs": [
    {
     "name": "stdout",
     "output_type": "stream",
     "text": [
      "ram lal \n",
      "50\n",
      "ritik kumar\n",
      "22\n"
     ]
    }
   ],
   "source": [
    "class Father:\n",
    "    Father_name = \"ram lal \"\n",
    "    Father_age  = 50\n",
    "\n",
    "class Child(Father):\n",
    "    child_name = \"ritik kumar\"\n",
    "    child_age = 22\n",
    "\n",
    "\n",
    "Child = Child()\n",
    "print(Child.Father_name)\n",
    "print(Child.Father_age)\n",
    "print(Child.child_name)\n",
    "print(Child.child_age)\n"
   ]
  },
  {
   "cell_type": "code",
   "execution_count": 17,
   "id": "bd673d31",
   "metadata": {},
   "outputs": [],
   "source": [
    "# multlevel inheritance\n",
    "class Grandfather:\n",
    "    pass \n",
    "class Father(Grandfather):\n",
    "    pass\n",
    "class Child(Father):\n",
    "    pass \n"
   ]
  },
  {
   "cell_type": "code",
   "execution_count": 18,
   "id": "6af3fd48",
   "metadata": {},
   "outputs": [
    {
     "name": "stdout",
     "output_type": "stream",
     "text": [
      "ram lal\n",
      "50\n",
      "ritik kumar\n",
      "32\n",
      "rahul \n",
      "20\n"
     ]
    }
   ],
   "source": [
    "class Grandfather:\n",
    "    grandfather_name = \"ram lal\"\n",
    "    grandfather_age = 50\n",
    "class Father(Grandfather):\n",
    "    father_name = \"ritik kumar\"\n",
    "    father_age = 32\n",
    "class Child(Father):\n",
    "    chiled_name = \"rahul \"\n",
    "    chiled_age = 20\n",
    "\n",
    "\n",
    "Child = Child()\n",
    "print(Child.grandfather_name)\n",
    "print(Child.grandfather_age)\n",
    "print(Child.father_name)\n",
    "print(Child.father_age)\n",
    "print(Child.chiled_name)\n",
    "print(Child.chiled_age)\n"
   ]
  },
  {
   "cell_type": "code",
   "execution_count": 19,
   "id": "0e54390c",
   "metadata": {},
   "outputs": [],
   "source": [
    "# multiple inheritance\n",
    "class Grandfather:\n",
    "    pass \n",
    "class Father:\n",
    "    pass\n",
    "class Child(Grandfather,Father):\n",
    "    pass\n",
    "obj =Child()\n",
    "# obj\n",
    "# super \n"
   ]
  },
  {
   "cell_type": "code",
   "execution_count": 20,
   "id": "00b94544",
   "metadata": {},
   "outputs": [],
   "source": [
    "# encapsulation\n",
    "\n",
    "\n",
    "class Collage:\n",
    "    collage_name = \"abc collage\" ### public variable\n",
    "    collage_address = \"jaipur\" ### public variable\n",
    "    _account_no = 123456 ### protected variable\n",
    "    __password = \"1234\" ### private variable\n",
    "\n",
    "clg =Collage()\n"
   ]
  },
  {
   "cell_type": "code",
   "execution_count": 21,
   "id": "df1fb250",
   "metadata": {},
   "outputs": [
    {
     "data": {
      "text/plain": [
       "'jaipur'"
      ]
     },
     "execution_count": 21,
     "metadata": {},
     "output_type": "execute_result"
    }
   ],
   "source": [
    "clg.collage_address"
   ]
  },
  {
   "cell_type": "code",
   "execution_count": 22,
   "id": "e1bea81c",
   "metadata": {},
   "outputs": [
    {
     "data": {
      "text/plain": [
       "'abc collage'"
      ]
     },
     "execution_count": 22,
     "metadata": {},
     "output_type": "execute_result"
    }
   ],
   "source": [
    "clg.collage_name"
   ]
  },
  {
   "cell_type": "code",
   "execution_count": 23,
   "id": "be8e3796",
   "metadata": {},
   "outputs": [
    {
     "ename": "AttributeError",
     "evalue": "type object 'Collage' has no attribute '__password'",
     "output_type": "error",
     "traceback": [
      "\u001b[1;31m---------------------------------------------------------------------------\u001b[0m",
      "\u001b[1;31mAttributeError\u001b[0m                            Traceback (most recent call last)",
      "Cell \u001b[1;32mIn[23], line 1\u001b[0m\n\u001b[1;32m----> 1\u001b[0m \u001b[43mCollage\u001b[49m\u001b[38;5;241;43m.\u001b[39;49m\u001b[43m__password\u001b[49m\n",
      "\u001b[1;31mAttributeError\u001b[0m: type object 'Collage' has no attribute '__password'"
     ]
    }
   ],
   "source": [
    "Collage.__password"
   ]
  },
  {
   "cell_type": "code",
   "execution_count": 28,
   "id": "1768fa2d",
   "metadata": {},
   "outputs": [
    {
     "data": {
      "text/plain": [
       "'1234'"
      ]
     },
     "execution_count": 28,
     "metadata": {},
     "output_type": "execute_result"
    }
   ],
   "source": [
    "clg._Collage__password"
   ]
  },
  {
   "cell_type": "code",
   "execution_count": 24,
   "id": "8d79c2cc",
   "metadata": {},
   "outputs": [
    {
     "data": {
      "text/plain": [
       "123456"
      ]
     },
     "execution_count": 24,
     "metadata": {},
     "output_type": "execute_result"
    }
   ],
   "source": [
    "clg._account_no"
   ]
  },
  {
   "cell_type": "code",
   "execution_count": 29,
   "id": "c8401838",
   "metadata": {},
   "outputs": [
    {
     "name": "stdout",
     "output_type": "stream",
     "text": [
      "name\n"
     ]
    }
   ],
   "source": [
    "print(\"name\")"
   ]
  },
  {
   "cell_type": "code",
   "execution_count": 30,
   "id": "b9a95b06",
   "metadata": {},
   "outputs": [
    {
     "name": "stdout",
     "output_type": "stream",
     "text": [
      "[1, 2, 5, 2, 58, 21, 5, 24, 4, 4, 1]\n"
     ]
    }
   ],
   "source": [
    "lst = [1,2,5,2,58,21,5,24,4,4,1]\n",
    "print(lst)"
   ]
  },
  {
   "cell_type": "code",
   "execution_count": 31,
   "id": "9d32a967",
   "metadata": {},
   "outputs": [
    {
     "data": {
      "text/plain": [
       "11"
      ]
     },
     "execution_count": 31,
     "metadata": {},
     "output_type": "execute_result"
    }
   ],
   "source": [
    "len(lst)"
   ]
  },
  {
   "cell_type": "code",
   "execution_count": null,
   "id": "340900d6",
   "metadata": {},
   "outputs": [],
   "source": [
    "# print()\n",
    "# input()\n",
    "# int()\n",
    "# float()\n",
    "# str()\n",
    "# list()\n",
    "# tuple()\n",
    "# dict()\n",
    "# set()"
   ]
  },
  {
   "cell_type": "code",
   "execution_count": 32,
   "id": "ced2b477",
   "metadata": {},
   "outputs": [],
   "source": [
    "class Country:\n",
    "    def __init__(self):\n",
    "        pass"
   ]
  },
  {
   "cell_type": "code",
   "execution_count": 33,
   "id": "cd04cec1",
   "metadata": {},
   "outputs": [],
   "source": [
    "class Country:\n",
    "    def __init__(self):\n",
    "        pass\n",
    "\n",
    "person =Country()"
   ]
  },
  {
   "cell_type": "code",
   "execution_count": 34,
   "id": "8bdb4065",
   "metadata": {},
   "outputs": [],
   "source": [
    "class Collage:\n",
    "    def __init__(self):\n",
    "        self.collage_name = \"abc collage\"   ### instance variable\n",
    "        self.collage_address = \"jaipur\"     ### instance variable\n",
    "        self.account_no = 123456            ### instance variable\n",
    "        self.password = \"1234\"              ### instance variable\n",
    "\n",
    "\n",
    "person=Collage()"
   ]
  },
  {
   "cell_type": "code",
   "execution_count": 35,
   "id": "fb7f1923",
   "metadata": {},
   "outputs": [
    {
     "data": {
      "text/plain": [
       "'jaipur'"
      ]
     },
     "execution_count": 35,
     "metadata": {},
     "output_type": "execute_result"
    }
   ],
   "source": [
    "person.collage_address"
   ]
  },
  {
   "cell_type": "code",
   "execution_count": 36,
   "id": "43421c62",
   "metadata": {},
   "outputs": [
    {
     "data": {
      "text/plain": [
       "'abc collage'"
      ]
     },
     "execution_count": 36,
     "metadata": {},
     "output_type": "execute_result"
    }
   ],
   "source": [
    "person.collage_name"
   ]
  },
  {
   "cell_type": "code",
   "execution_count": 37,
   "id": "bc26b39f",
   "metadata": {},
   "outputs": [
    {
     "data": {
      "text/plain": [
       "123456"
      ]
     },
     "execution_count": 37,
     "metadata": {},
     "output_type": "execute_result"
    }
   ],
   "source": [
    "person.account_no"
   ]
  },
  {
   "cell_type": "code",
   "execution_count": 38,
   "id": "a0cb443b",
   "metadata": {},
   "outputs": [
    {
     "data": {
      "text/plain": [
       "'1234'"
      ]
     },
     "execution_count": 38,
     "metadata": {},
     "output_type": "execute_result"
    }
   ],
   "source": [
    "person.password"
   ]
  },
  {
   "cell_type": "code",
   "execution_count": 39,
   "id": "103f81f6",
   "metadata": {},
   "outputs": [],
   "source": [
    "class Collage:\n",
    "    def __init__(self, collage_name,collage_address,account_no,password):\n",
    "        self.collage_name = collage_name\n",
    "        self.collage_address = collage_address\n",
    "        self.account_no = account_no\n",
    "        self.password = password\n",
    "\n",
    "person =Collage(collage_address=\"jaipur rajasthan \",collage_name=\"abc collage\",account_no=123456,password=\"1234\")"
   ]
  },
  {
   "cell_type": "code",
   "execution_count": 40,
   "id": "d21bfaa6",
   "metadata": {},
   "outputs": [
    {
     "data": {
      "text/plain": [
       "'jaipur rajasthan '"
      ]
     },
     "execution_count": 40,
     "metadata": {},
     "output_type": "execute_result"
    }
   ],
   "source": [
    "person.collage_address"
   ]
  },
  {
   "cell_type": "code",
   "execution_count": 41,
   "id": "4e5855a1",
   "metadata": {},
   "outputs": [
    {
     "data": {
      "text/plain": [
       "'abc collage'"
      ]
     },
     "execution_count": 41,
     "metadata": {},
     "output_type": "execute_result"
    }
   ],
   "source": [
    "person.collage_name"
   ]
  },
  {
   "cell_type": "code",
   "execution_count": 42,
   "id": "ccc8bf16",
   "metadata": {},
   "outputs": [
    {
     "data": {
      "text/plain": [
       "123456"
      ]
     },
     "execution_count": 42,
     "metadata": {},
     "output_type": "execute_result"
    }
   ],
   "source": [
    "person.account_no"
   ]
  },
  {
   "cell_type": "code",
   "execution_count": 43,
   "id": "471adb97",
   "metadata": {},
   "outputs": [],
   "source": [
    "class Collage:\n",
    "    def __init__(self, collage_name,collage_address,account_no,password):\n",
    "        self.collage_name = collage_name\n",
    "        self.collage_address = collage_address\n",
    "        self.account_no = account_no\n",
    "        self.password = password\n",
    "    def display(self):\n",
    "        print(self.collage_address)\n",
    "        print(self.collage_name)\n",
    "        print(self.account_no)\n",
    "        print(self.password)\n",
    "\n",
    "person =Collage(collage_address=\"jaipur rajasthan \",collage_name=\"abc collage\",account_no=123456,password=\"1234\")"
   ]
  },
  {
   "cell_type": "code",
   "execution_count": 44,
   "id": "d89daf5f",
   "metadata": {},
   "outputs": [
    {
     "name": "stdout",
     "output_type": "stream",
     "text": [
      "jaipur rajasthan \n",
      "abc collage\n",
      "123456\n",
      "1234\n"
     ]
    }
   ],
   "source": [
    "person.display()"
   ]
  },
  {
   "cell_type": "code",
   "execution_count": null,
   "id": "14e8afb3",
   "metadata": {},
   "outputs": [],
   "source": []
  }
 ],
 "metadata": {
  "kernelspec": {
   "display_name": "Python 3",
   "language": "python",
   "name": "python3"
  },
  "language_info": {
   "codemirror_mode": {
    "name": "ipython",
    "version": 3
   },
   "file_extension": ".py",
   "mimetype": "text/x-python",
   "name": "python",
   "nbconvert_exporter": "python",
   "pygments_lexer": "ipython3",
   "version": "3.11.5"
  }
 },
 "nbformat": 4,
 "nbformat_minor": 5
}
