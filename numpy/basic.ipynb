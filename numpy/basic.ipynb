{
 "cells": [
  {
   "cell_type": "code",
   "execution_count": null,
   "id": "8be6aa70",
   "metadata": {},
   "outputs": [],
   "source": [
    "import numpy as np "
   ]
  },
  {
   "cell_type": "code",
   "execution_count": null,
   "id": "e94ce58d",
   "metadata": {},
   "outputs": [],
   "source": [
    "# list and array \n",
    "lst = [ 1,2,2,5,2,5,5]\n",
    "print(lst)\n",
    "print (type(lst))"
   ]
  },
  {
   "cell_type": "code",
   "execution_count": null,
   "id": "5f16ba61",
   "metadata": {},
   "outputs": [],
   "source": [
    "arr =np.array(lst)\n",
    "print(arr )\n",
    "print(type(arr))"
   ]
  },
  {
   "cell_type": "code",
   "execution_count": null,
   "id": "519a7e79",
   "metadata": {},
   "outputs": [],
   "source": [
    "arr =np.array([1,2,5,28,8,27])"
   ]
  },
  {
   "cell_type": "code",
   "execution_count": null,
   "id": "d7d7384e",
   "metadata": {},
   "outputs": [],
   "source": [
    "arr "
   ]
  },
  {
   "cell_type": "code",
   "execution_count": null,
   "id": "4ea0763f",
   "metadata": {},
   "outputs": [],
   "source": [
    "# np.arange(10)npnp.npnpnpnnf;ndflgldfgldakkldaffglmglfgnlgnlngngggfgfgasvafganpnpmjhjhbvfrgtyhjmnp"
   ]
  },
  {
   "cell_type": "code",
   "execution_count": null,
   "id": "6dd6dd8c",
   "metadata": {},
   "outputs": [],
   "source": [
    "lst =list(range(0,10))"
   ]
  },
  {
   "cell_type": "code",
   "execution_count": null,
   "id": "555772a3",
   "metadata": {},
   "outputs": [],
   "source": [
    "lst "
   ]
  },
  {
   "cell_type": "code",
   "execution_count": null,
   "id": "eec474c1",
   "metadata": {},
   "outputs": [],
   "source": [
    "np.array(lst)"
   ]
  },
  {
   "cell_type": "code",
   "execution_count": null,
   "id": "0271f443",
   "metadata": {},
   "outputs": [],
   "source": [
    "arr =np.zeros(10)"
   ]
  },
  {
   "cell_type": "code",
   "execution_count": null,
   "id": "3bfd5032",
   "metadata": {},
   "outputs": [],
   "source": [
    "arr "
   ]
  },
  {
   "cell_type": "code",
   "execution_count": null,
   "id": "4a1521d7",
   "metadata": {},
   "outputs": [],
   "source": [
    "np.ones(10)"
   ]
  },
  {
   "cell_type": "code",
   "execution_count": null,
   "id": "a2ca84ac",
   "metadata": {},
   "outputs": [],
   "source": [
    "np.linspace(1,10,5)"
   ]
  },
  {
   "cell_type": "code",
   "execution_count": null,
   "id": "4c52b87c",
   "metadata": {},
   "outputs": [],
   "source": [
    "arr =np.arange(0,30)"
   ]
  },
  {
   "cell_type": "code",
   "execution_count": null,
   "id": "5f53c3dd",
   "metadata": {},
   "outputs": [],
   "source": [
    "arr.reshape(3,10) "
   ]
  },
  {
   "cell_type": "code",
   "execution_count": null,
   "id": "b5878d55",
   "metadata": {},
   "outputs": [],
   "source": [
    "arr.reshape(5,6)"
   ]
  },
  {
   "cell_type": "code",
   "execution_count": null,
   "id": "e2d7d248",
   "metadata": {},
   "outputs": [],
   "source": [
    "arr.reshape(10,3)"
   ]
  },
  {
   "cell_type": "code",
   "execution_count": null,
   "id": "d932f806",
   "metadata": {},
   "outputs": [],
   "source": [
    "np.random.randint(1,5,9)"
   ]
  },
  {
   "cell_type": "code",
   "execution_count": null,
   "id": "108c33e2",
   "metadata": {},
   "outputs": [],
   "source": [
    "np.random.randint(1,5,(5,2))\n"
   ]
  },
  {
   "cell_type": "code",
   "execution_count": null,
   "id": "5e7e27af",
   "metadata": {},
   "outputs": [],
   "source": [
    "np.random.random((5,2))"
   ]
  },
  {
   "cell_type": "code",
   "execution_count": null,
   "id": "39c8831f",
   "metadata": {},
   "outputs": [],
   "source": [
    "np.random.random(10)\n"
   ]
  },
  {
   "cell_type": "code",
   "execution_count": null,
   "id": "1eb358a8",
   "metadata": {},
   "outputs": [],
   "source": [
    "np.random.random((5,10))"
   ]
  },
  {
   "cell_type": "code",
   "execution_count": null,
   "id": "6d456654",
   "metadata": {},
   "outputs": [],
   "source": [
    "arr =np.arange(60).reshape(12,5)"
   ]
  },
  {
   "cell_type": "code",
   "execution_count": null,
   "id": "1a13d1f5",
   "metadata": {},
   "outputs": [],
   "source": [
    "arr"
   ]
  },
  {
   "cell_type": "code",
   "execution_count": null,
   "id": "2f204ce4",
   "metadata": {},
   "outputs": [],
   "source": [
    "print(\"array shape:-\",arr.shape)\n",
    "print(\"size of arrayy:-\",arr.size)\n",
    "print(\"types of arr \", arr.dtype)\n",
    "print(\" number of dimenation:-\",arr.ndim)\n",
    "print(\"max of array :-\",arr.max())\n",
    "print(\"min of array :-\",arr.min())\n",
    "print(\"sum of array :-\",arr.sum())\n",
    "print(\"mean of array :-\",arr.mean())"
   ]
  },
  {
   "cell_type": "code",
   "execution_count": null,
   "id": "cf348f64",
   "metadata": {},
   "outputs": [],
   "source": [
    "arr "
   ]
  },
  {
   "cell_type": "code",
   "execution_count": null,
   "id": "21504fd5",
   "metadata": {},
   "outputs": [],
   "source": [
    "arr.flatten() ### flattening"
   ]
  },
  {
   "cell_type": "code",
   "execution_count": null,
   "id": "9c223f5c",
   "metadata": {},
   "outputs": [],
   "source": [
    "arr.ravel()  ###  "
   ]
  },
  {
   "cell_type": "code",
   "execution_count": null,
   "id": "0bed8464",
   "metadata": {},
   "outputs": [],
   "source": [
    "arr.T.shape"
   ]
  },
  {
   "cell_type": "code",
   "execution_count": null,
   "id": "362ba0cc",
   "metadata": {},
   "outputs": [],
   "source": [
    "arr "
   ]
  },
  {
   "cell_type": "code",
   "execution_count": null,
   "id": "cd4bfd49",
   "metadata": {},
   "outputs": [],
   "source": [
    "arr[1][0:2]"
   ]
  },
  {
   "cell_type": "code",
   "execution_count": null,
   "id": "ec7fe2a4",
   "metadata": {},
   "outputs": [],
   "source": [
    "arr[0:2,0:2]"
   ]
  },
  {
   "cell_type": "code",
   "execution_count": null,
   "id": "7fa77b03",
   "metadata": {},
   "outputs": [],
   "source": [
    "arr[1:2,1:2]"
   ]
  },
  {
   "cell_type": "code",
   "execution_count": null,
   "id": "812c9fe6",
   "metadata": {},
   "outputs": [],
   "source": [
    "arr[0:5, 1:2] "
   ]
  },
  {
   "cell_type": "code",
   "execution_count": null,
   "id": "e0efb9cc",
   "metadata": {},
   "outputs": [],
   "source": [
    "arr[-1,-1]"
   ]
  },
  {
   "cell_type": "code",
   "execution_count": null,
   "id": "72220624",
   "metadata": {},
   "outputs": [],
   "source": [
    "arr[11,4]"
   ]
  },
  {
   "cell_type": "code",
   "execution_count": null,
   "id": "f95271a6",
   "metadata": {},
   "outputs": [],
   "source": [
    "arr[-1,4]"
   ]
  },
  {
   "cell_type": "code",
   "execution_count": null,
   "id": "b775e8da",
   "metadata": {},
   "outputs": [],
   "source": [
    "arr[11][-1]"
   ]
  },
  {
   "cell_type": "code",
   "execution_count": null,
   "id": "c4a8ead9",
   "metadata": {},
   "outputs": [],
   "source": [
    "arr =np.array(np.arange(225).reshape(5,15,3))"
   ]
  },
  {
   "cell_type": "code",
   "execution_count": null,
   "id": "4b538d19",
   "metadata": {},
   "outputs": [],
   "source": [
    "arr.ndim, arr.shape, arr.size, arr.dtype"
   ]
  },
  {
   "cell_type": "code",
   "execution_count": null,
   "id": "35e092a0",
   "metadata": {},
   "outputs": [],
   "source": [
    "arr"
   ]
  },
  {
   "cell_type": "code",
   "execution_count": null,
   "id": "899bc602",
   "metadata": {},
   "outputs": [],
   "source": [
    "arr[:,0,:]"
   ]
  },
  {
   "cell_type": "code",
   "execution_count": null,
   "id": "2a950cf5",
   "metadata": {},
   "outputs": [],
   "source": [
    "arr[:,0:1,0]"
   ]
  },
  {
   "cell_type": "code",
   "execution_count": null,
   "id": "09567866",
   "metadata": {},
   "outputs": [],
   "source": [
    "arr[0][3][2]=200"
   ]
  },
  {
   "cell_type": "code",
   "execution_count": null,
   "id": "e1baf125",
   "metadata": {},
   "outputs": [],
   "source": [
    "arr[0][3][2]=1000"
   ]
  },
  {
   "cell_type": "code",
   "execution_count": null,
   "id": "01038faa",
   "metadata": {},
   "outputs": [],
   "source": [
    "arr[0]"
   ]
  },
  {
   "cell_type": "code",
   "execution_count": null,
   "id": "60810bda",
   "metadata": {},
   "outputs": [],
   "source": [
    "arr =np.array([3,2,5,1,0])"
   ]
  },
  {
   "cell_type": "code",
   "execution_count": null,
   "id": "4e04d1cf",
   "metadata": {},
   "outputs": [],
   "source": [
    "arr.sort()\n",
    "arr "
   ]
  },
  {
   "cell_type": "code",
   "execution_count": null,
   "id": "e89c38a5",
   "metadata": {},
   "outputs": [],
   "source": [
    "arr+2\n",
    "arr*2\n",
    "arr-2\n",
    "arr/arr\n",
    "arr/2\n",
    "arr**2"
   ]
  },
  {
   "cell_type": "code",
   "execution_count": null,
   "id": "d7480224",
   "metadata": {},
   "outputs": [],
   "source": [
    "arr1  =np.array([3,2,5,1,0])\n",
    "arr2  =np.array([3,2,5,1,0])\n",
    "arr1+arr2\n",
    "arr1*arr2\n",
    "arr1-arr2\n",
    "arr1/arr2\n",
    "arr1/2\n",
    "arr1**2\n",
    "\n"
   ]
  }
 ],
 "metadata": {
  "kernelspec": {
   "display_name": "Python 3",
   "language": "python",
   "name": "python3"
  },
  "language_info": {
   "codemirror_mode": {
    "name": "ipython",
    "version": 3
   },
   "file_extension": ".py",
   "mimetype": "text/x-python",
   "name": "python",
   "nbconvert_exporter": "python",
   "pygments_lexer": "ipython3",
   "version": "3.11.5"
  }
 },
 "nbformat": 4,
 "nbformat_minor": 5
}
