{
 "cells": [
  {
   "cell_type": "code",
   "execution_count": 1,
   "id": "3b8e4b28",
   "metadata": {},
   "outputs": [],
   "source": [
    "import os "
   ]
  },
  {
   "cell_type": "code",
   "execution_count": null,
   "id": "a3e276b9",
   "metadata": {},
   "outputs": [
    {
     "data": {
      "text/plain": [
       "'c:\\\\Users\\\\kumaw\\\\OneDrive\\\\Desktop\\\\DataScience 16 july\\\\OS'"
      ]
     },
     "execution_count": 2,
     "metadata": {},
     "output_type": "execute_result"
    }
   ],
   "source": [
    "os.getcwd() ### get current working directory"
   ]
  },
  {
   "cell_type": "code",
   "execution_count": 3,
   "id": "09aab20e",
   "metadata": {},
   "outputs": [
    {
     "data": {
      "text/plain": [
       "['os.ipynb']"
      ]
     },
     "execution_count": 3,
     "metadata": {},
     "output_type": "execute_result"
    }
   ],
   "source": [
    "os.listdir('c:\\\\Users\\\\kumaw\\\\OneDrive\\\\Desktop\\\\DataScience 16 july\\\\OS')"
   ]
  },
  {
   "cell_type": "code",
   "execution_count": 4,
   "id": "5bed6697",
   "metadata": {},
   "outputs": [],
   "source": [
    "os.mkdir('test')"
   ]
  },
  {
   "cell_type": "code",
   "execution_count": 5,
   "id": "7a7c5cac",
   "metadata": {},
   "outputs": [],
   "source": [
    "os.rename('test','data')"
   ]
  },
  {
   "cell_type": "code",
   "execution_count": 6,
   "id": "7cc30f79",
   "metadata": {},
   "outputs": [],
   "source": [
    "os.rmdir('data')"
   ]
  },
  {
   "cell_type": "code",
   "execution_count": null,
   "id": "3bc262ff",
   "metadata": {},
   "outputs": [],
   "source": [
    "print(\"hello\")"
   ]
  },
  {
   "cell_type": "code",
   "execution_count": null,
   "id": "553fb6d4",
   "metadata": {},
   "outputs": [],
   "source": [
    "# os.remove('os.ipynb')\n",
    "path = r'c:\\\\Users\\\\kumaw\\\\OneDrive\\\\Desktop\\\\DataScience 16 july\\\\OS'\n",
    "env=os.environ.get(path)"
   ]
  },
  {
   "cell_type": "code",
   "execution_count": 9,
   "id": "bf8bc8cd",
   "metadata": {},
   "outputs": [],
   "source": [
    "env "
   ]
  },
  {
   "cell_type": "code",
   "execution_count": 10,
   "id": "b530e544",
   "metadata": {},
   "outputs": [
    {
     "data": {
      "text/plain": [
       "1"
      ]
     },
     "execution_count": 10,
     "metadata": {},
     "output_type": "execute_result"
    }
   ],
   "source": [
    "os.system(path)"
   ]
  },
  {
   "cell_type": "code",
   "execution_count": 11,
   "id": "527fa3f3",
   "metadata": {},
   "outputs": [
    {
     "data": {
      "text/plain": [
       "['desktop.ini',\n",
       " 'documents',\n",
       " 'DSC_1409.JPG',\n",
       " 'DSC_6697.JPG',\n",
       " 'DSC_6698.JPG',\n",
       " 'DSC_6699.JPG',\n",
       " 'DSC_6700.JPG',\n",
       " 'Family',\n",
       " 'Govind',\n",
       " 'IMG_7544.JPG',\n",
       " 'IMG_7548.JPG',\n",
       " 'New folder',\n",
       " 'New folder (2)',\n",
       " 'New folder (3)',\n",
       " 'nishu aashar.jpg',\n",
       " 'profile-img.png',\n",
       " 'profile-img01.jpg',\n",
       " 'Ram mandir',\n",
       " 'Riddhi dundh',\n",
       " 'Ridhi',\n",
       " 'ritik',\n",
       " 'rotatae govind.png',\n",
       " 'Siddharth',\n",
       " 'Songs',\n",
       " 'Wallpaper',\n",
       " 'WhatsApp Image 2024-12-25 at 11.08.54_6a593d94.jpg']"
      ]
     },
     "execution_count": 11,
     "metadata": {},
     "output_type": "execute_result"
    }
   ],
   "source": [
    "os.listdir('E:\\Family')"
   ]
  },
  {
   "cell_type": "code",
   "execution_count": 12,
   "id": "4d17dda7",
   "metadata": {},
   "outputs": [
    {
     "data": {
      "text/plain": [
       "True"
      ]
     },
     "execution_count": 12,
     "metadata": {},
     "output_type": "execute_result"
    }
   ],
   "source": [
    "os.path.isdir('E:\\Family')"
   ]
  },
  {
   "cell_type": "code",
   "execution_count": 13,
   "id": "04b1fad1",
   "metadata": {},
   "outputs": [
    {
     "data": {
      "text/plain": [
       "False"
      ]
     },
     "execution_count": 13,
     "metadata": {},
     "output_type": "execute_result"
    }
   ],
   "source": [
    "os.path.isfile(path)"
   ]
  },
  {
   "cell_type": "code",
   "execution_count": 14,
   "id": "1bfcd3a4",
   "metadata": {},
   "outputs": [
    {
     "name": "stdout",
     "output_type": "stream",
     "text": [
      "c:\\Users\\kumaw\\OneDrive\\Desktop\\DataScience 16 july\\OS\n"
     ]
    }
   ],
   "source": [
    "path1 = \"c:\\\\Users\\\\kumaw\\\\OneDrive\"\n",
    "path2 = \"Desktop\\\\DataScience 16 july\\\\OS\"\n",
    "path3 = os.path.join(path1,path2)\n",
    "print(path3)"
   ]
  },
  {
   "cell_type": "code",
   "execution_count": 15,
   "id": "7c5ce838",
   "metadata": {},
   "outputs": [
    {
     "data": {
      "text/plain": [
       "['os.ipynb']"
      ]
     },
     "execution_count": 15,
     "metadata": {},
     "output_type": "execute_result"
    }
   ],
   "source": [
    "os.listdir(path3)"
   ]
  },
  {
   "cell_type": "code",
   "execution_count": 17,
   "id": "eca99c62",
   "metadata": {},
   "outputs": [
    {
     "data": {
      "text/plain": [
       "6441"
      ]
     },
     "execution_count": 17,
     "metadata": {},
     "output_type": "execute_result"
    }
   ],
   "source": [
    "os.path.getsize(r'C:\\Users\\kumaw\\OneDrive\\Desktop\\DataScience 16 july\\OS\\os.ipynb')"
   ]
  },
  {
   "cell_type": "code",
   "execution_count": null,
   "id": "ae56e335",
   "metadata": {},
   "outputs": [],
   "source": []
  },
  {
   "cell_type": "code",
   "execution_count": null,
   "id": "a87e2ed7",
   "metadata": {},
   "outputs": [],
   "source": []
  }
 ],
 "metadata": {
  "kernelspec": {
   "display_name": "Python 3",
   "language": "python",
   "name": "python3"
  },
  "language_info": {
   "codemirror_mode": {
    "name": "ipython",
    "version": 3
   },
   "file_extension": ".py",
   "mimetype": "text/x-python",
   "name": "python",
   "nbconvert_exporter": "python",
   "pygments_lexer": "ipython3",
   "version": "3.11.5"
  }
 },
 "nbformat": 4,
 "nbformat_minor": 5
}
